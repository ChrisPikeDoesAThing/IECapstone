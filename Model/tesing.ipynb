{
 "cells": [
  {
   "cell_type": "code",
   "execution_count": null,
   "metadata": {},
   "outputs": [],
   "source": [
    "import os\n",
    "import pandas as pd\n",
    "import numpy as np\n",
    "import csv\n",
    "\n",
    "def join_path(filename):\n",
    "    current_dir = os.path.dirname(os.path.abspath(__file__))\n",
    "    parent_dir = os.path.dirname(current_dir)\n",
    "    file_path = os.path.join(parent_dir, filename)\n",
    "    return file_path\n",
    "\n",
    "def read_csv_to_list(file_path):\n",
    "    data = []\n",
    "    with open(file_path, mode='r') as file:\n",
    "        csv_reader = csv.reader(file)\n",
    "        for row in csv_reader:\n",
    "            data.append(row)\n",
    "    return data\n",
    "    \n",
    "facilitylist = read_csv_to_list(join_path(\"Model/CSVLib/DistanceListShort.csv\"))\n",
    "supply = read_csv_to_list(join_path(\"Model/CSVLib/SupplierData.csv\"))\n",
    "demand = read_csv_to_list(join_path(\"Model/CSVLib/CountyData.csv\"))\n",
    "cost_per_mile = 1.0\n",
    "truck_capacity = 160000\n",
    "truck_limit = 5000"
   ]
  }
 ],
 "metadata": {
  "language_info": {
   "name": "python"
  }
 },
 "nbformat": 4,
 "nbformat_minor": 2
}
