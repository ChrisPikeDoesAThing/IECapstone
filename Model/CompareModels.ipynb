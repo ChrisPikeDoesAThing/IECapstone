{
 "cells": [
  {
   "cell_type": "code",
   "execution_count": null,
   "metadata": {},
   "outputs": [],
   "source": [
    "from CompareModel import Model\n",
    "import pandas as pd\n",
    "\n",
    "\n",
    "for i in range(10):\n",
    "    results = Model()\n",
    "\n"
   ]
  }
 ],
 "metadata": {
  "language_info": {
   "name": "python"
  }
 },
 "nbformat": 4,
 "nbformat_minor": 2
}
