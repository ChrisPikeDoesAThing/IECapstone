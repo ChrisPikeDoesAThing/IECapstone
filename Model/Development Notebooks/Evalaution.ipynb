{
 "cells": [
  {
   "cell_type": "code",
   "execution_count": null,
   "metadata": {},
   "outputs": [],
   "source": [
    "import csv\n",
    "import os\n",
    "def join_path(filename):\n",
    "    current_dir = os.getcwd()\n",
    "    parent_dir = os.path.dirname(current_dir)\n",
    "    file_path = os.path.join(parent_dir, filename)\n",
    "    return file_path\n",
    "def csv_to_dict_list(csv_file_path, has_headers=0):\n",
    "    dict_list = []\n",
    "    with open(csv_file_path, mode='r') as file:\n",
    "        csv_reader = csv.reader(file)\n",
    "        if has_headers:\n",
    "            headers = next(csv_reader)\n",
    "        else:\n",
    "            headers = [str(i) for i in range(len(next(csv_reader)))]\n",
    "            file.seek(0)\n",
    "        for row in csv_reader:\n",
    "            row_dict = {i: row[i] for i in range(len(headers))}\n",
    "            dict_list.append(row_dict)\n",
    "    return dict_list\n",
    "\n",
    "def add_supply_amount_to_county_data(transparent_distribution_path, county_data_path, output_path):\n",
    "    transparent_distribution = csv_to_dict_list(transparent_distribution_path, has_headers=1)\n",
    "    county_data = csv_to_dict_list(county_data_path, has_headers=0)\n",
    "    supply_dict = {row[1]: float(row[2]) for row in transparent_distribution}\n",
    "    \n",
    "    for row in county_data:\n",
    "        county_id = row[0]\n",
    "        if county_id in supply_dict:\n",
    "            row[2] = str(float(row[2]) - supply_dict[county_id])\n",
    "    \n",
    "    with open(output_path, mode='w', newline='') as file:\n",
    "        writer = csv.writer(file)\n",
    "        writer.writerow(['ID', 'County', 'Updated Demand'])\n",
    "        for row in county_data:\n",
    "            writer.writerow([row[0], row[1], row[2]])\n",
    "\n",
    "# Example usage\n",
    "def Evaluate(type = \"Transparent\"):\n",
    "    if type == \"Transparent\":\n",
    "        transparent_distribution_path = join_path('Model/CSVLib/TransparentDistribution.csv')\n",
    "        county_data_path = join_path('Model/CSVLib/CountyData.csv')\n",
    "        output_path = join_path('Model/CSVLib/TransparentDemand.csv')\n",
    "    else:\n",
    "        transparent_distribution_path = join_path('Model/CSVLib/NonTransparentDistribution.csv')\n",
    "        county_data_path = join_path('Model/CSVLib/CountyData.csv')\n",
    "        output_path = join_path('Model/CSVLib/NonTransparentDemand.csv')\n",
    "\n",
    "    add_supply_amount_to_county_data(transparent_distribution_path, county_data_path, output_path)\n",
    "\n",
    "\n",
    "Evaluate(\"Transparent\")\n",
    "Evaluate(\"NonTransparent\")"
   ]
  }
 ],
 "metadata": {
  "kernelspec": {
   "display_name": ".venv",
   "language": "python",
   "name": "python3"
  },
  "language_info": {
   "codemirror_mode": {
    "name": "ipython",
    "version": 3
   },
   "file_extension": ".py",
   "mimetype": "text/x-python",
   "name": "python",
   "nbconvert_exporter": "python",
   "pygments_lexer": "ipython3",
   "version": "3.10.8"
  }
 },
 "nbformat": 4,
 "nbformat_minor": 2
}
