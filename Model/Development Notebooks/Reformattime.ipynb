{
 "cells": [
  {
   "cell_type": "code",
   "execution_count": 9,
   "metadata": {},
   "outputs": [],
   "source": [
    "import csv\n",
    "import os\n",
    "\n",
    "def join_path(filename):\n",
    "    current_dir = os.getcwd()\n",
    "    parent_dir = os.path.dirname(current_dir)\n",
    "    file_path = os.path.join(parent_dir, filename)\n",
    "    return file_path\n",
    "def convert_time_to_minutes(time_str):\n",
    "    parts = time_str.split()\n",
    "    hours = 0\n",
    "    minutes = 0\n",
    "    if 'hour' in parts:\n",
    "        hours = int(parts[parts.index('hour') - 1])\n",
    "    if 'hours' in parts:\n",
    "        hours = int(parts[parts.index('hours') - 1])\n",
    "    if 'min' in parts:\n",
    "        minutes = int(parts[parts.index('min') - 1])\n",
    "    if 'mins' in parts:\n",
    "        minutes = int(parts[parts.index('mins') - 1])\n",
    "    return hours * 60 + minutes\n",
    "\n",
    "def convert_csv_time_to_minutes(input_csv_path, output_csv_path):\n",
    "    with open(input_csv_path, mode='r') as infile, open(output_csv_path, mode='w', newline='') as outfile:\n",
    "        reader = csv.reader(infile)\n",
    "        writer = csv.writer(outfile)\n",
    "        for row in reader:\n",
    "            row[3] = str(convert_time_to_minutes(row[3]))\n",
    "            writer.writerow(row)\n",
    "\n",
    "# Example usage\n",
    "input_csv_path = input_csv_path = join_path('Model/CSVLib/DistanceListShort - Copy.csv')\n",
    "output_csv_path = output_csv_path = join_path('Model/CSVLib/DistanceListShort.csv')\n",
    "\n",
    "convert_csv_time_to_minutes(input_csv_path, output_csv_path)\n"
   ]
  }
 ],
 "metadata": {
  "kernelspec": {
   "display_name": ".venv",
   "language": "python",
   "name": "python3"
  },
  "language_info": {
   "codemirror_mode": {
    "name": "ipython",
    "version": 3
   },
   "file_extension": ".py",
   "mimetype": "text/x-python",
   "name": "python",
   "nbconvert_exporter": "python",
   "pygments_lexer": "ipython3",
   "version": "3.10.8"
  }
 },
 "nbformat": 4,
 "nbformat_minor": 2
}
