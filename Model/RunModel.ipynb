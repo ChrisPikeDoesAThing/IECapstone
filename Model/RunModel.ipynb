{
 "cells": [
  {
   "cell_type": "code",
   "execution_count": null,
   "metadata": {},
   "outputs": [
    {
     "name": "stdout",
     "output_type": "stream",
     "text": [
      "No routes to plot\n",
      "No routes to plot\n"
     ]
    },
    {
     "name": "stderr",
     "output_type": "stream",
     "text": [
      "c:\\Users\\Owner\\Documents\\GitHub\\IECapstone\\Model\\Analysis.py:122: RuntimeWarning: divide by zero encountered in scalar divide\n",
      "  ratio = total_county_supply / total_supplier_demand\n",
      "c:\\Users\\Owner\\Documents\\GitHub\\IECapstone\\.venv\\lib\\site-packages\\pandas\\core\\nanops.py:1016: RuntimeWarning: invalid value encountered in subtract\n",
      "  sqr = _ensure_numeric((avg - values) ** 2)\n"
     ]
    }
   ],
   "source": [
    "from CompareModel import Model\n",
    "import pandas as pd\n",
    "import os\n",
    "\n",
    "def join_path(filename):\n",
    "    current_dir = os.getcwd()\n",
    "    parent_dir = os.path.dirname(current_dir)\n",
    "    file_path = os.path.join(parent_dir, filename)\n",
    "    return file_path\n",
    "\n",
    "# Create an empty DataFrame with appropriate column names\n",
    "results_df = pd.DataFrame(columns=['ratio', 'cost', 'transparentequity', 'cost', 'nontransparentequity'])\n",
    "\n",
    "resolution = 50\n",
    "Supply = 'Model/CSVLib/CountyData.csv'\n",
    "Demand = 'Model/CSVLib/SupplierData.csv'\n",
    "for i in range(resolution):\n",
    "    scalar = (i+1)/resolution\n",
    "    results = Model(Supply,Demand,scalar)\n",
    "    # Append the results to the DataFrame\n",
    "    results_df.loc[i] = results\n",
    "\n",
    "results_df.to_csv(join_path('Model/CSVResults/Results.csv'))\n",
    "\n"
   ]
  }
 ],
 "metadata": {
  "kernelspec": {
   "display_name": ".venv",
   "language": "python",
   "name": "python3"
  },
  "language_info": {
   "codemirror_mode": {
    "name": "ipython",
    "version": 3
   },
   "file_extension": ".py",
   "mimetype": "text/x-python",
   "name": "python",
   "nbconvert_exporter": "python",
   "pygments_lexer": "ipython3",
   "version": "3.10.8"
  }
 },
 "nbformat": 4,
 "nbformat_minor": 2
}
