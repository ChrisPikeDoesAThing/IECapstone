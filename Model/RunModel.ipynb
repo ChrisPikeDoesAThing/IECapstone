{
 "cells": [
  {
   "cell_type": "code",
   "execution_count": 1,
   "metadata": {},
   "outputs": [
    {
     "name": "stdout",
     "output_type": "stream",
     "text": [
      "Model/CSVLib/CountyData-Scaled.csv\n",
      "-3.0000082610110894\n"
     ]
    }
   ],
   "source": [
    "from CompareModel import Model\n",
    "import pandas as pd\n",
    "import os\n",
    "\n",
    "def join_path(filename):\n",
    "    current_dir = os.getcwd()\n",
    "    parent_dir = os.path.dirname(current_dir)\n",
    "    file_path = os.path.join(parent_dir, filename)\n",
    "    return file_path\n",
    "\n",
    "# Create an empty DataFrame with appropriate column names\n",
    "results_df = pd.DataFrame(columns=['ratio', 'cost', 'transparentequityAVG','transparentequitySTD', 'cost','nontransparentequityAVG','nontransparentequitySTD'])\n",
    "\n",
    "resolution = 1\n",
    "Demand = 'Model/CSVLib/CountyData.csv'\n",
    "Supply = 'Model/CSVLib/SupplierData.csv'\n",
    "for i in range(resolution):\n",
    "    #scalar = (i+1)/resolution\n",
    "    scalar = 1/5\n",
    "    results = Model(Supply,Demand,scalar)\n",
    "    # Append the results to the DataFrame\n",
    "    results_df.loc[i] = results\n",
    "\n",
    "results_df.to_csv(join_path('Model/CSVResults/Results.csv'))\n",
    "\n"
   ]
  }
 ],
 "metadata": {
  "kernelspec": {
   "display_name": ".venv",
   "language": "python",
   "name": "python3"
  },
  "language_info": {
   "codemirror_mode": {
    "name": "ipython",
    "version": 3
   },
   "file_extension": ".py",
   "mimetype": "text/x-python",
   "name": "python",
   "nbconvert_exporter": "python",
   "pygments_lexer": "ipython3",
   "version": "3.10.8"
  }
 },
 "nbformat": 4,
 "nbformat_minor": 2
}
