{
 "cells": [
  {
   "cell_type": "code",
   "execution_count": null,
   "metadata": {},
   "outputs": [],
   "source": [
    "from Algo import Minimize\n",
    "from Evaluation import Evaluate\n",
    "from Analysis import find_difference_and_ratio\n",
    "from FrontEndMapping import Mapping\n",
    "\n",
    "OriginalCountyDemand = 'Model/CSVLib/CountyData.csv' \n",
    "\n",
    "TranspartResourceDistribution = \"Model/CSVResults/TransparentDistribution.csv\"\n",
    "CompetitiveResourceDistribution = \"Model/CSVResults/NonTransparentDistribution.csv\"\n",
    "\n",
    "UpdatedTransparentDemand = 'Model/CSVResults/TransparentDemand.csv'\n",
    "UpdatedCompetitiveDemand = 'Model/CSVResults/NonTransparentDemand.csv'\n",
    "\n",
    "\n",
    "costdistribution1,Locations1=Minimize(TranspartResourceDistribution,trials=50, Mtype=\"Transparent\")\n",
    "costdistribution2,Locations2=Minimize(CompetitiveResourceDistribution,trials=50, Mtype=\"NonTransparent\")\n",
    "\n",
    "Evaluate(TranspartResourceDistribution,UpdatedTransparentDemand)\n",
    "Evaluate(TranspartResourceDistribution,UpdatedCompetitiveDemand)\n",
    "\n",
    "find_difference_and_ratio(OriginalCountyDemand, UpdatedTransparentDemand, 'Model/CSVResults/TransparentAnalysisDiff.csv','Model/CSVResults/TransparentAnalysifill.csv')\n",
    "find_difference_and_ratio(OriginalCountyDemand, UpdatedCompetitiveDemand, 'Model/CSVResults/NonTransparentAnalysisDiff.csv','Model/CSVResults/NonTransparentAnalysisfill.csv')\n",
    "\n",
    "Mapping(TranspartResourceDistribution,\"Model/OutputFiles/Transparent.html\")\n",
    "Mapping(CompetitiveResourceDistribution,\"Model/OutputFiles/NonTransparent.html\")\n"
   ]
  }
 ],
 "metadata": {
  "kernelspec": {
   "display_name": ".venv",
   "language": "python",
   "name": "python3"
  },
  "language_info": {
   "codemirror_mode": {
    "name": "ipython",
    "version": 3
   },
   "file_extension": ".py",
   "mimetype": "text/x-python",
   "name": "python",
   "nbconvert_exporter": "python",
   "pygments_lexer": "ipython3",
   "version": "3.10.8"
  }
 },
 "nbformat": 4,
 "nbformat_minor": 2
}
