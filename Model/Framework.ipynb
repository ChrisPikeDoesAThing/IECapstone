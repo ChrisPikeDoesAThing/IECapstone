{
 "cells": [
  {
   "cell_type": "code",
   "execution_count": 1,
   "metadata": {},
   "outputs": [
    {
     "name": "stdout",
     "output_type": "stream",
     "text": [
      "0.3809600203197156\n",
      "117939.75024000001\n",
      "[np.float64(0.3865308172121408), np.float64(0.47044783065688306)]\n",
      "\n",
      "95366.83697999998\n",
      "[np.float64(0.4108155869402365), np.float64(0.6547722673915963)]\n"
     ]
    }
   ],
   "source": [
    "from Algo import Minimize\n",
    "from Evaluation import Evaluate\n",
    "from Analysis import find_difference, analyze_csv_files, find_ratio\n",
    "from FrontEndMapping import Mapping\n",
    "from scalecsv import scale_third_column\n",
    "import pandas as pd\n",
    "\n",
    "#Change These for Case Testing\n",
    "OriginalCountyDemand = 'Model/CSVLib/CountyData.csv' \n",
    "OriginalCountySupply = 'Model/CSVLib/SupplierData.csv'\n",
    "\n",
    "Demand = scale_third_column(OriginalCountyDemand,'Model/CSVLib/CountyData-Scaled.csv', 1)\n",
    "Supply = scale_third_column(OriginalCountySupply,'Model/CSVLib/SupplierData-Scaled.csv', 1)\n",
    "\n",
    "Locations = \"Model/CSVLib/Locations.csv\"\n",
    "\n",
    "TranspartResourceDistribution = \"Model/CSVResults/TransparentDistribution.csv\"\n",
    "CompetitiveResourceDistribution = \"Model/CSVResults/NonTransparentDistribution.csv\"\n",
    "\n",
    "UpdatedTransparentDemand = 'Model/CSVResults/TransparentDemand.csv'\n",
    "UpdatedCompetitiveDemand = 'Model/CSVResults/NonTransparentDemand.csv'\n",
    "\n",
    "\n",
    "costdistribution1,Locations1=Minimize(Supply,Demand,Locations, TranspartResourceDistribution,trials=50, Mtype=\"Transparent\")\n",
    "costdistribution2,Locations2=Minimize(Supply,Demand,Locations, CompetitiveResourceDistribution,trials=50, Mtype=\"NonTransparent\")\n",
    "\n",
    "Evaluate(TranspartResourceDistribution,UpdatedTransparentDemand)\n",
    "Evaluate(CompetitiveResourceDistribution,UpdatedCompetitiveDemand)\n",
    "\n",
    "find_difference(Demand, UpdatedTransparentDemand, 'Model/CSVResults/TransparentAnalysifill.csv')\n",
    "find_difference(Demand, UpdatedCompetitiveDemand, 'Model/CSVResults/NonTransparentAnalysisfill.csv')\n",
    "\n",
    "Mapping(TranspartResourceDistribution,\"Model/OutputFiles/Transparent.html\")\n",
    "Mapping(CompetitiveResourceDistribution,\"Model/OutputFiles/NonTransparent.html\")\n",
    "\n",
    "ratio = find_ratio(Supply,Demand)\n",
    "transparentequity, nontransparentequity = analyze_csv_files(UpdatedTransparentDemand, UpdatedCompetitiveDemand, Demand)\n",
    "\n",
    "print(ratio)\n",
    "print(costdistribution1[0])\n",
    "print(transparentequity)\n",
    "print(\"\")\n",
    "print(costdistribution2[0])\n",
    "print(nontransparentequity)\n"
   ]
  }
 ],
 "metadata": {
  "kernelspec": {
   "display_name": ".venv",
   "language": "python",
   "name": "python3"
  },
  "language_info": {
   "codemirror_mode": {
    "name": "ipython",
    "version": 3
   },
   "file_extension": ".py",
   "mimetype": "text/x-python",
   "name": "python",
   "nbconvert_exporter": "python",
   "pygments_lexer": "ipython3",
   "version": "3.10.8"
  }
 },
 "nbformat": 4,
 "nbformat_minor": 2
}
